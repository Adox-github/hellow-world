{
  "nbformat": 4,
  "nbformat_minor": 0,
  "metadata": {
    "colab": {
      "name": "AULA02",
      "provenance": [],
      "collapsed_sections": [],
      "authorship_tag": "ABX9TyOoaz4LTzhHH0vqYwMVRfAf",
      "include_colab_link": true
    },
    "kernelspec": {
      "name": "python3",
      "display_name": "Python 3"
    }
  },
  "cells": [
    {
      "cell_type": "markdown",
      "metadata": {
        "id": "view-in-github",
        "colab_type": "text"
      },
      "source": [
        "<a href=\"https://colab.research.google.com/github/Adox-github/hellow-world/blob/master/AULA02.ipynb\" target=\"_parent\"><img src=\"https://colab.research.google.com/assets/colab-badge.svg\" alt=\"Open In Colab\"/></a>"
      ]
    },
    {
      "cell_type": "code",
      "metadata": {
        "id": "L4Q3xNRabA1X",
        "outputId": "98bfd9b9-25e0-4523-9cf4-efeb132a5f7c",
        "colab": {
          "base_uri": "https://localhost:8080/",
          "height": 34
        }
      },
      "source": [
        "# F-STRING\n",
        "primeiro_nome = \"Adolfo\"\n",
        "\n",
        "ultimo_nome = \"Alves\"\n",
        "\n",
        "print(f\"O nome do cliente é {primeiro_nome} {ultimo_nome}...\")"
      ],
      "execution_count": null,
      "outputs": [
        {
          "output_type": "stream",
          "text": [
            "O nome do cliente é Adolfo Alves...\n"
          ],
          "name": "stdout"
        }
      ]
    },
    {
      "cell_type": "code",
      "metadata": {
        "id": "AuKW-w16dIdV",
        "outputId": "3d352088-6f6f-432a-9ab0-28c8a42d4bfd",
        "colab": {
          "base_uri": "https://localhost:8080/",
          "height": 34
        }
      },
      "source": [
        "# TUPLA\n",
        "produto = ('arroz', 'alimento')\n",
        "\n",
        "print(produto)"
      ],
      "execution_count": null,
      "outputs": [
        {
          "output_type": "stream",
          "text": [
            "('arroz', 'alimento')\n"
          ],
          "name": "stdout"
        }
      ]
    },
    {
      "cell_type": "code",
      "metadata": {
        "id": "UDPHQJRCgLqv",
        "outputId": "976b25aa-e76b-42a2-b536-ae439ee222e3",
        "colab": {
          "base_uri": "https://localhost:8080/",
          "height": 34
        }
      },
      "source": [
        "# LISTA\n",
        "produtos = ['pão', 'manteiga', 'sal']\n",
        "\n",
        "print(produtos)"
      ],
      "execution_count": null,
      "outputs": [
        {
          "output_type": "stream",
          "text": [
            "['pão', 'manteiga', 'sal']\n"
          ],
          "name": "stdout"
        }
      ]
    },
    {
      "cell_type": "code",
      "metadata": {
        "id": "J5_BrNAPgnCd",
        "outputId": "ee53915a-f03f-4f33-c496-e3630aef88ea",
        "colab": {
          "base_uri": "https://localhost:8080/",
          "height": 34
        }
      },
      "source": [
        "produtos.append('queijo')\n",
        "\n",
        "produtos"
      ],
      "execution_count": null,
      "outputs": [
        {
          "output_type": "execute_result",
          "data": {
            "text/plain": [
              "['pão', 'manteiga', 'sal', 'queijo']"
            ]
          },
          "metadata": {
            "tags": []
          },
          "execution_count": 14
        }
      ]
    },
    {
      "cell_type": "code",
      "metadata": {
        "id": "FFT-9xTrhZ_G",
        "outputId": "5592578c-04a7-4a4f-8424-261dc1027cb3",
        "colab": {
          "base_uri": "https://localhost:8080/",
          "height": 35
        }
      },
      "source": [
        "produtos.pop()"
      ],
      "execution_count": null,
      "outputs": [
        {
          "output_type": "execute_result",
          "data": {
            "application/vnd.google.colaboratory.intrinsic+json": {
              "type": "string"
            },
            "text/plain": [
              "'queijo'"
            ]
          },
          "metadata": {
            "tags": []
          },
          "execution_count": 11
        }
      ]
    },
    {
      "cell_type": "code",
      "metadata": {
        "id": "a2L6OiXkhp4M",
        "outputId": "1f643940-f0a6-4955-907c-59deb884a415",
        "colab": {
          "base_uri": "https://localhost:8080/",
          "height": 34
        }
      },
      "source": [
        "print(produtos)"
      ],
      "execution_count": null,
      "outputs": [
        {
          "output_type": "stream",
          "text": [
            "['pão', 'manteiga', 'sal']\n"
          ],
          "name": "stdout"
        }
      ]
    },
    {
      "cell_type": "code",
      "metadata": {
        "id": "NhO4BmjDh094",
        "outputId": "2941eb5f-b44e-4dc0-f351-8da908f8a61e",
        "colab": {
          "base_uri": "https://localhost:8080/",
          "height": 34
        }
      },
      "source": [
        "item_removido = produtos.pop()\n",
        "\n",
        "print(item_removido)"
      ],
      "execution_count": null,
      "outputs": [
        {
          "output_type": "stream",
          "text": [
            "sal\n"
          ],
          "name": "stdout"
        }
      ]
    },
    {
      "cell_type": "code",
      "metadata": {
        "id": "RSxiXtW3jAYI",
        "outputId": "7ef8bb15-9670-453b-80b2-30f8b8812319",
        "colab": {
          "base_uri": "https://localhost:8080/",
          "height": 34
        }
      },
      "source": [
        "# DICIONÁRIO\n",
        "carro = {\n",
        "    'nome': 'corolla',\n",
        "    'ano': '2015',\n",
        "    'motor': '2.0'\n",
        "}\n",
        "\n",
        "carro"
      ],
      "execution_count": null,
      "outputs": [
        {
          "output_type": "execute_result",
          "data": {
            "text/plain": [
              "{'ano': '2015', 'motor': '2.0', 'nome': 'corolla'}"
            ]
          },
          "metadata": {
            "tags": []
          },
          "execution_count": 20
        }
      ]
    },
    {
      "cell_type": "code",
      "metadata": {
        "id": "MWI9Tk_hj5SV",
        "outputId": "28c55e62-125a-45ea-91c1-53387d1785c8",
        "colab": {
          "base_uri": "https://localhost:8080/",
          "height": 34
        }
      },
      "source": [
        "print(carro['nome'])"
      ],
      "execution_count": null,
      "outputs": [
        {
          "output_type": "stream",
          "text": [
            "corolla\n"
          ],
          "name": "stdout"
        }
      ]
    },
    {
      "cell_type": "code",
      "metadata": {
        "id": "sQhQkls1s5Vp",
        "outputId": "296206f2-2d02-427f-9e4b-666bc328e955",
        "colab": {
          "base_uri": "https://localhost:8080/",
          "height": 34
        }
      },
      "source": [
        "casa = ('rua 2, 100', 1970)\n",
        "#          0             1\n",
        "\n",
        "print(casa[0])"
      ],
      "execution_count": null,
      "outputs": [
        {
          "output_type": "stream",
          "text": [
            "rua 2, 100\n"
          ],
          "name": "stdout"
        }
      ]
    },
    {
      "cell_type": "code",
      "metadata": {
        "id": "f1b6Qsmy5FJ2",
        "outputId": "d63f3fc8-7058-415e-aa49-f3ba64b077e0",
        "colab": {
          "base_uri": "https://localhost:8080/",
          "height": 35
        }
      },
      "source": [
        "carros = ['fiesta', 'corolla', 'civic', 'gol', 'palio', 'fusion']\n",
        "#           0           1          2      3       4         5\n",
        "\n",
        "carros[3]"
      ],
      "execution_count": null,
      "outputs": [
        {
          "output_type": "execute_result",
          "data": {
            "application/vnd.google.colaboratory.intrinsic+json": {
              "type": "string"
            },
            "text/plain": [
              "'gol'"
            ]
          },
          "metadata": {
            "tags": []
          },
          "execution_count": 26
        }
      ]
    },
    {
      "cell_type": "code",
      "metadata": {
        "id": "xGmH52wl58YN",
        "outputId": "ec35b307-b4cb-49c1-89f8-5f9d3cd03389",
        "colab": {
          "base_uri": "https://localhost:8080/",
          "height": 34
        }
      },
      "source": [
        "carros.append('sorento')\n",
        "\n",
        "carros"
      ],
      "execution_count": null,
      "outputs": [
        {
          "output_type": "execute_result",
          "data": {
            "text/plain": [
              "['fiesta', 'corolla', 'civic', 'gol', 'palio', 'fusion', 'sorento']"
            ]
          },
          "metadata": {
            "tags": []
          },
          "execution_count": 27
        }
      ]
    },
    {
      "cell_type": "code",
      "metadata": {
        "id": "d-lyaGK_F-JK"
      },
      "source": [
        "cantor = {\n",
        "          'nome': 'Roberto Carlos',\n",
        "          'cidade': 'Curitiba',\n",
        "          'país': 'Brasil'\n",
        "}"
      ],
      "execution_count": 2,
      "outputs": []
    },
    {
      "cell_type": "code",
      "metadata": {
        "id": "cE60qcAwHBKZ",
        "outputId": "c1a00a06-2dc7-4cde-f5d3-c72c1fe1328b",
        "colab": {
          "base_uri": "https://localhost:8080/",
          "height": 34
        }
      },
      "source": [
        "cantor"
      ],
      "execution_count": null,
      "outputs": [
        {
          "output_type": "execute_result",
          "data": {
            "text/plain": [
              "{'cidade': 'Curitiba', 'nome': 'Roberto Carlos', 'país': 'Brasil'}"
            ]
          },
          "metadata": {
            "tags": []
          },
          "execution_count": 7
        }
      ]
    },
    {
      "cell_type": "code",
      "metadata": {
        "id": "YD9PnvSjHGA2",
        "outputId": "6ed1f9b3-83f8-44e6-fcc2-e87c64ed7fde",
        "colab": {
          "base_uri": "https://localhost:8080/",
          "height": 35
        }
      },
      "source": [
        "cantor['nome']"
      ],
      "execution_count": null,
      "outputs": [
        {
          "output_type": "execute_result",
          "data": {
            "application/vnd.google.colaboratory.intrinsic+json": {
              "type": "string"
            },
            "text/plain": [
              "'Roberto Carlos'"
            ]
          },
          "metadata": {
            "tags": []
          },
          "execution_count": 9
        }
      ]
    },
    {
      "cell_type": "code",
      "metadata": {
        "id": "RXGHUVGfLD6x",
        "outputId": "7bb1ec40-734e-418c-9e73-04c22374fd67",
        "colab": {
          "base_uri": "https://localhost:8080/",
          "height": 85
        }
      },
      "source": [
        "cantor['estilo'] = 'MPB'\n",
        "\n",
        "cantor"
      ],
      "execution_count": null,
      "outputs": [
        {
          "output_type": "execute_result",
          "data": {
            "text/plain": [
              "{'cidade': 'Curitiba',\n",
              " 'estilo': 'MPB',\n",
              " 'nome': 'Roberto Carlos',\n",
              " 'país': 'Brasil'}"
            ]
          },
          "metadata": {
            "tags": []
          },
          "execution_count": 11
        }
      ]
    },
    {
      "cell_type": "code",
      "metadata": {
        "id": "2tEKzaUsMhFD"
      },
      "source": [
        "cantor.pop('cidade')\n",
        "\n",
        "cantor"
      ],
      "execution_count": null,
      "outputs": []
    },
    {
      "cell_type": "code",
      "metadata": {
        "id": "lJbAbenHMo7e",
        "outputId": "70816cfe-b590-49d9-a29a-0a968056de26",
        "colab": {
          "base_uri": "https://localhost:8080/",
          "height": 34
        }
      },
      "source": [
        "cantor"
      ],
      "execution_count": null,
      "outputs": [
        {
          "output_type": "execute_result",
          "data": {
            "text/plain": [
              "{'estilo': 'MPB', 'nome': 'Roberto Carlos', 'país': 'Brasil'}"
            ]
          },
          "metadata": {
            "tags": []
          },
          "execution_count": 16
        }
      ]
    },
    {
      "cell_type": "code",
      "metadata": {
        "id": "Tm-grMz5M6vG",
        "outputId": "ab44b45a-2bf9-4a43-cc4b-5de33f205d9a",
        "colab": {
          "base_uri": "https://localhost:8080/",
          "height": 35
        }
      },
      "source": [
        "cantor.pop('cidade', 'chave cidade não encontrada')"
      ],
      "execution_count": null,
      "outputs": [
        {
          "output_type": "execute_result",
          "data": {
            "application/vnd.google.colaboratory.intrinsic+json": {
              "type": "string"
            },
            "text/plain": [
              "'chave cidade não encontrada'"
            ]
          },
          "metadata": {
            "tags": []
          },
          "execution_count": 18
        }
      ]
    },
    {
      "cell_type": "code",
      "metadata": {
        "id": "rhtNwrQjNqjp",
        "outputId": "c77dbae3-9fb4-4f6c-f472-5431c8bb70c1",
        "colab": {
          "base_uri": "https://localhost:8080/",
          "height": 34
        }
      },
      "source": [
        "cantor.keys()"
      ],
      "execution_count": null,
      "outputs": [
        {
          "output_type": "execute_result",
          "data": {
            "text/plain": [
              "dict_keys(['nome', 'país', 'estilo'])"
            ]
          },
          "metadata": {
            "tags": []
          },
          "execution_count": 19
        }
      ]
    },
    {
      "cell_type": "code",
      "metadata": {
        "id": "1YphvdCgqP1T",
        "outputId": "8c059e45-e1c5-4f42-e1b4-c24b39dcceae",
        "colab": {
          "base_uri": "https://localhost:8080/",
          "height": 34
        }
      },
      "source": [
        "cantor.values()"
      ],
      "execution_count": 3,
      "outputs": [
        {
          "output_type": "execute_result",
          "data": {
            "text/plain": [
              "dict_values(['Roberto Carlos', 'Curitiba', 'Brasil'])"
            ]
          },
          "metadata": {
            "tags": []
          },
          "execution_count": 3
        }
      ]
    },
    {
      "cell_type": "markdown",
      "metadata": {
        "id": "I2yi-yc-r6Fn"
      },
      "source": [
        "BOOLEAN - VERDADEIRO OU FALSO\n"
      ]
    },
    {
      "cell_type": "code",
      "metadata": {
        "id": "PgdTFzyPsCaD",
        "outputId": "29f5419b-d0fd-4ef6-80d4-c17974d3e513",
        "colab": {
          "base_uri": "https://localhost:8080/",
          "height": 34
        }
      },
      "source": [
        "run = False\n",
        "\n",
        "print(run)"
      ],
      "execution_count": 5,
      "outputs": [
        {
          "output_type": "stream",
          "text": [
            "False\n"
          ],
          "name": "stdout"
        }
      ]
    },
    {
      "cell_type": "code",
      "metadata": {
        "id": "sa2mG1V8samQ",
        "outputId": "1d016283-5c50-4490-8bb1-ba56530a7d29",
        "colab": {
          "base_uri": "https://localhost:8080/",
          "height": 34
        }
      },
      "source": [
        "print(int(run))"
      ],
      "execution_count": 6,
      "outputs": [
        {
          "output_type": "stream",
          "text": [
            "0\n"
          ],
          "name": "stdout"
        }
      ]
    },
    {
      "cell_type": "code",
      "metadata": {
        "id": "TDGQMg5ws84R",
        "outputId": "a2f8bb0f-a90d-4362-b42d-d05aacd3f22e",
        "colab": {
          "base_uri": "https://localhost:8080/",
          "height": 34
        }
      },
      "source": [
        "run = True\n",
        "\n",
        "print(run)"
      ],
      "execution_count": 7,
      "outputs": [
        {
          "output_type": "stream",
          "text": [
            "True\n"
          ],
          "name": "stdout"
        }
      ]
    },
    {
      "cell_type": "code",
      "metadata": {
        "id": "XYzfGWJltHCb",
        "outputId": "8e908ef9-7057-470f-ea6b-e3587856c695",
        "colab": {
          "base_uri": "https://localhost:8080/",
          "height": 34
        }
      },
      "source": [
        "print(int(run))"
      ],
      "execution_count": 8,
      "outputs": [
        {
          "output_type": "stream",
          "text": [
            "1\n"
          ],
          "name": "stdout"
        }
      ]
    },
    {
      "cell_type": "markdown",
      "metadata": {
        "id": "5FmygjRFtgfs"
      },
      "source": [
        "IF STATTEMENT"
      ]
    },
    {
      "cell_type": "code",
      "metadata": {
        "id": "RCWC4h21tjN1"
      },
      "source": [
        "nome = 'Adolfo Alves'\n",
        "idade = 45"
      ],
      "execution_count": 15,
      "outputs": []
    },
    {
      "cell_type": "code",
      "metadata": {
        "id": "o_hgCAMjvGu6",
        "outputId": "eed74938-7529-4073-9e23-c4c4871a11fa",
        "colab": {
          "base_uri": "https://localhost:8080/",
          "height": 34
        }
      },
      "source": [
        "if idade > 20:\n",
        "  print(nome)\n",
        "else:\n",
        "  print(f\"A idade do usuário é {idade}\")"
      ],
      "execution_count": 13,
      "outputs": [
        {
          "output_type": "stream",
          "text": [
            "Adolfo Alves\n"
          ],
          "name": "stdout"
        }
      ]
    },
    {
      "cell_type": "code",
      "metadata": {
        "id": "vSSbQk6EySRk"
      },
      "source": [
        ""
      ],
      "execution_count": null,
      "outputs": []
    },
    {
      "cell_type": "code",
      "metadata": {
        "id": "bDWptet7xPwy",
        "outputId": "cfed279f-2e6c-43f6-f497-9e9108bb0aca",
        "colab": {
          "base_uri": "https://localhost:8080/",
          "height": 34
        }
      },
      "source": [
        "if idade <= 2:\n",
        "  print(\"Passagem grátis\")\n",
        "elif idade <= 12:\n",
        "  print(\"Passagem com 50% de desconto\")\n",
        "elif idade <= 65:\n",
        "  print(\"Passagem sem desconto\")\n",
        "else:\n",
        "    print(\"Passagem com 25% de desconto\")"
      ],
      "execution_count": 17,
      "outputs": [
        {
          "output_type": "stream",
          "text": [
            "Passagem sem desconto\n"
          ],
          "name": "stdout"
        }
      ]
    },
    {
      "cell_type": "markdown",
      "metadata": {
        "id": "lgyHhtUI3FYa"
      },
      "source": [
        "FOR LOOP"
      ]
    },
    {
      "cell_type": "code",
      "metadata": {
        "id": "7XP8LwjN3Hvr",
        "outputId": "4a1beb24-6c8a-4de4-a82c-49ceb3f79ce5",
        "colab": {
          "base_uri": "https://localhost:8080/",
          "height": 34
        }
      },
      "source": [
        "produtos = ['queijo', 'arroz', 'farinha', 'ovo', 'manteiga', 'sal']\n",
        "print(produtos)"
      ],
      "execution_count": 19,
      "outputs": [
        {
          "output_type": "stream",
          "text": [
            "['queijo', 'arroz', 'farinha', 'ovo', 'manteiga', 'sal']\n"
          ],
          "name": "stdout"
        }
      ]
    },
    {
      "cell_type": "code",
      "metadata": {
        "id": "ztJy52Lg4USh",
        "outputId": "a1037aa7-4e3b-4d13-cca8-9b17d82bd9c7",
        "colab": {
          "base_uri": "https://localhost:8080/",
          "height": 119
        }
      },
      "source": [
        "for item in produtos:\n",
        "  print(f\"O item {item} tem em estoque!\")"
      ],
      "execution_count": 23,
      "outputs": [
        {
          "output_type": "stream",
          "text": [
            "O item queijo tem em estoque!\n",
            "O item arroz tem em estoque!\n",
            "O item farinha tem em estoque!\n",
            "O item ovo tem em estoque!\n",
            "O item manteiga tem em estoque!\n",
            "O item sal tem em estoque!\n"
          ],
          "name": "stdout"
        }
      ]
    },
    {
      "cell_type": "code",
      "metadata": {
        "id": "1AaokArz5ij8",
        "outputId": "2f76b01a-8bcd-47d1-c4ee-33fa4f210b2e",
        "colab": {
          "base_uri": "https://localhost:8080/",
          "height": 187
        }
      },
      "source": [
        "for numero in range(1,11):\n",
        "  print(numero * numero)"
      ],
      "execution_count": 25,
      "outputs": [
        {
          "output_type": "stream",
          "text": [
            "1\n",
            "4\n",
            "9\n",
            "16\n",
            "25\n",
            "36\n",
            "49\n",
            "64\n",
            "81\n",
            "100\n"
          ],
          "name": "stdout"
        }
      ]
    },
    {
      "cell_type": "markdown",
      "metadata": {
        "id": "8Ap0R4GI6jW3"
      },
      "source": [
        "FUNÇÃO"
      ]
    },
    {
      "cell_type": "code",
      "metadata": {
        "id": "GZodaiVO6lIx",
        "outputId": "9162bf4f-7d25-45e7-fa22-f1ce5de48135",
        "colab": {
          "base_uri": "https://localhost:8080/",
          "height": 34
        }
      },
      "source": [
        "def somar_dois_numeros(num1, num2):\n",
        "  return num1 + num2\n",
        "\n",
        "primeiro = 5\n",
        "\n",
        "segundo = 6\n",
        "\n",
        "print(somar_dois_numeros(primeiro, segundo))"
      ],
      "execution_count": 30,
      "outputs": [
        {
          "output_type": "stream",
          "text": [
            "11\n"
          ],
          "name": "stdout"
        }
      ]
    },
    {
      "cell_type": "code",
      "metadata": {
        "id": "Mag2teYo9eRO",
        "outputId": "ae5ab46b-db46-4314-a2c7-9f3f3ebc9559",
        "colab": {
          "base_uri": "https://localhost:8080/",
          "height": 34
        }
      },
      "source": [
        "print(somar_dois_numeros(7, 7))"
      ],
      "execution_count": 32,
      "outputs": [
        {
          "output_type": "stream",
          "text": [
            "14\n"
          ],
          "name": "stdout"
        }
      ]
    },
    {
      "cell_type": "code",
      "metadata": {
        "id": "x_DqQs4z-eiZ",
        "outputId": "25d66b17-99db-44be-f28e-e3fe5a7cb6b3",
        "colab": {
          "base_uri": "https://localhost:8080/",
          "height": 34
        }
      },
      "source": [
        "def saudacao(nome_usuario):\n",
        "  print(f\"{nome_usuario}, seja bem vinda!\")\n",
        "\n",
        "saudacao('Juliana')"
      ],
      "execution_count": 33,
      "outputs": [
        {
          "output_type": "stream",
          "text": [
            "Juliana, seja bem vinda!\n"
          ],
          "name": "stdout"
        }
      ]
    }
  ]
}