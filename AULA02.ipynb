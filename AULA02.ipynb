{
  "nbformat": 4,
  "nbformat_minor": 0,
  "metadata": {
    "colab": {
      "name": "AULA02",
      "provenance": [],
      "authorship_tag": "ABX9TyNasd5IEl4BySA6q88vmEBc",
      "include_colab_link": true
    },
    "kernelspec": {
      "name": "python3",
      "display_name": "Python 3"
    }
  },
  "cells": [
    {
      "cell_type": "markdown",
      "metadata": {
        "id": "view-in-github",
        "colab_type": "text"
      },
      "source": [
        "<a href=\"https://colab.research.google.com/github/Adox-github/hellow-world/blob/master/AULA02.ipynb\" target=\"_parent\"><img src=\"https://colab.research.google.com/assets/colab-badge.svg\" alt=\"Open In Colab\"/></a>"
      ]
    },
    {
      "cell_type": "code",
      "metadata": {
        "id": "L4Q3xNRabA1X",
        "outputId": "98bfd9b9-25e0-4523-9cf4-efeb132a5f7c",
        "colab": {
          "base_uri": "https://localhost:8080/",
          "height": 34
        }
      },
      "source": [
        "# F-STRING\n",
        "primeiro_nome = \"Adolfo\"\n",
        "\n",
        "ultimo_nome = \"Alves\"\n",
        "\n",
        "print(f\"O nome do cliente é {primeiro_nome} {ultimo_nome}...\")"
      ],
      "execution_count": 3,
      "outputs": [
        {
          "output_type": "stream",
          "text": [
            "O nome do cliente é Adolfo Alves...\n"
          ],
          "name": "stdout"
        }
      ]
    },
    {
      "cell_type": "code",
      "metadata": {
        "id": "AuKW-w16dIdV",
        "outputId": "3d352088-6f6f-432a-9ab0-28c8a42d4bfd",
        "colab": {
          "base_uri": "https://localhost:8080/",
          "height": 34
        }
      },
      "source": [
        "# TUPLA\n",
        "produto = ('arroz', 'alimento')\n",
        "\n",
        "print(produto)"
      ],
      "execution_count": 5,
      "outputs": [
        {
          "output_type": "stream",
          "text": [
            "('arroz', 'alimento')\n"
          ],
          "name": "stdout"
        }
      ]
    },
    {
      "cell_type": "code",
      "metadata": {
        "id": "UDPHQJRCgLqv",
        "outputId": "976b25aa-e76b-42a2-b536-ae439ee222e3",
        "colab": {
          "base_uri": "https://localhost:8080/",
          "height": 34
        }
      },
      "source": [
        "# LISTA\n",
        "produtos = ['pão', 'manteiga', 'sal']\n",
        "\n",
        "print(produtos)"
      ],
      "execution_count": 7,
      "outputs": [
        {
          "output_type": "stream",
          "text": [
            "['pão', 'manteiga', 'sal']\n"
          ],
          "name": "stdout"
        }
      ]
    },
    {
      "cell_type": "code",
      "metadata": {
        "id": "J5_BrNAPgnCd",
        "outputId": "ee53915a-f03f-4f33-c496-e3630aef88ea",
        "colab": {
          "base_uri": "https://localhost:8080/",
          "height": 34
        }
      },
      "source": [
        "produtos.append('queijo')\n",
        "\n",
        "produtos"
      ],
      "execution_count": 14,
      "outputs": [
        {
          "output_type": "execute_result",
          "data": {
            "text/plain": [
              "['pão', 'manteiga', 'sal', 'queijo']"
            ]
          },
          "metadata": {
            "tags": []
          },
          "execution_count": 14
        }
      ]
    },
    {
      "cell_type": "code",
      "metadata": {
        "id": "FFT-9xTrhZ_G",
        "outputId": "5592578c-04a7-4a4f-8424-261dc1027cb3",
        "colab": {
          "base_uri": "https://localhost:8080/",
          "height": 35
        }
      },
      "source": [
        "produtos.pop()"
      ],
      "execution_count": 11,
      "outputs": [
        {
          "output_type": "execute_result",
          "data": {
            "application/vnd.google.colaboratory.intrinsic+json": {
              "type": "string"
            },
            "text/plain": [
              "'queijo'"
            ]
          },
          "metadata": {
            "tags": []
          },
          "execution_count": 11
        }
      ]
    },
    {
      "cell_type": "code",
      "metadata": {
        "id": "a2L6OiXkhp4M",
        "outputId": "1f643940-f0a6-4955-907c-59deb884a415",
        "colab": {
          "base_uri": "https://localhost:8080/",
          "height": 34
        }
      },
      "source": [
        "print(produtos)"
      ],
      "execution_count": 13,
      "outputs": [
        {
          "output_type": "stream",
          "text": [
            "['pão', 'manteiga', 'sal']\n"
          ],
          "name": "stdout"
        }
      ]
    },
    {
      "cell_type": "code",
      "metadata": {
        "id": "NhO4BmjDh094",
        "outputId": "2941eb5f-b44e-4dc0-f351-8da908f8a61e",
        "colab": {
          "base_uri": "https://localhost:8080/",
          "height": 34
        }
      },
      "source": [
        "item_removido = produtos.pop()\n",
        "\n",
        "print(item_removido)"
      ],
      "execution_count": 16,
      "outputs": [
        {
          "output_type": "stream",
          "text": [
            "sal\n"
          ],
          "name": "stdout"
        }
      ]
    },
    {
      "cell_type": "code",
      "metadata": {
        "id": "RSxiXtW3jAYI",
        "outputId": "7ef8bb15-9670-453b-80b2-30f8b8812319",
        "colab": {
          "base_uri": "https://localhost:8080/",
          "height": 34
        }
      },
      "source": [
        "# DICIONÁRIO\n",
        "carro = {\n",
        "    'nome': 'corolla',\n",
        "    'ano': '2015',\n",
        "    'motor': '2.0'\n",
        "}\n",
        "\n",
        "carro"
      ],
      "execution_count": 20,
      "outputs": [
        {
          "output_type": "execute_result",
          "data": {
            "text/plain": [
              "{'ano': '2015', 'motor': '2.0', 'nome': 'corolla'}"
            ]
          },
          "metadata": {
            "tags": []
          },
          "execution_count": 20
        }
      ]
    },
    {
      "cell_type": "code",
      "metadata": {
        "id": "MWI9Tk_hj5SV",
        "outputId": "28c55e62-125a-45ea-91c1-53387d1785c8",
        "colab": {
          "base_uri": "https://localhost:8080/",
          "height": 34
        }
      },
      "source": [
        "print(carro['nome'])"
      ],
      "execution_count": 21,
      "outputs": [
        {
          "output_type": "stream",
          "text": [
            "corolla\n"
          ],
          "name": "stdout"
        }
      ]
    },
    {
      "cell_type": "code",
      "metadata": {
        "id": "sQhQkls1s5Vp",
        "outputId": "296206f2-2d02-427f-9e4b-666bc328e955",
        "colab": {
          "base_uri": "https://localhost:8080/",
          "height": 34
        }
      },
      "source": [
        "casa = ('rua 2, 100', 1970)\n",
        "#          0             1\n",
        "\n",
        "print(casa[0])"
      ],
      "execution_count": 24,
      "outputs": [
        {
          "output_type": "stream",
          "text": [
            "rua 2, 100\n"
          ],
          "name": "stdout"
        }
      ]
    },
    {
      "cell_type": "code",
      "metadata": {
        "id": "f1b6Qsmy5FJ2",
        "outputId": "d63f3fc8-7058-415e-aa49-f3ba64b077e0",
        "colab": {
          "base_uri": "https://localhost:8080/",
          "height": 35
        }
      },
      "source": [
        "carros = ['fiesta', 'corolla', 'civic', 'gol', 'palio', 'fusion']\n",
        "#           0           1          2      3       4         5\n",
        "\n",
        "carros[3]"
      ],
      "execution_count": 26,
      "outputs": [
        {
          "output_type": "execute_result",
          "data": {
            "application/vnd.google.colaboratory.intrinsic+json": {
              "type": "string"
            },
            "text/plain": [
              "'gol'"
            ]
          },
          "metadata": {
            "tags": []
          },
          "execution_count": 26
        }
      ]
    },
    {
      "cell_type": "code",
      "metadata": {
        "id": "xGmH52wl58YN",
        "outputId": "ec35b307-b4cb-49c1-89f8-5f9d3cd03389",
        "colab": {
          "base_uri": "https://localhost:8080/",
          "height": 34
        }
      },
      "source": [
        "carros.append('sorento')\n",
        "\n",
        "carros"
      ],
      "execution_count": 27,
      "outputs": [
        {
          "output_type": "execute_result",
          "data": {
            "text/plain": [
              "['fiesta', 'corolla', 'civic', 'gol', 'palio', 'fusion', 'sorento']"
            ]
          },
          "metadata": {
            "tags": []
          },
          "execution_count": 27
        }
      ]
    }
  ]
}